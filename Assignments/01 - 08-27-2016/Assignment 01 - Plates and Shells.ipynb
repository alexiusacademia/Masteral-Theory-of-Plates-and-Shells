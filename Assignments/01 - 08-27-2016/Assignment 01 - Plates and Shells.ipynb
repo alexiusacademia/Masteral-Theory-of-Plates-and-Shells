{
 "cells": [
  {
   "cell_type": "markdown",
   "metadata": {},
   "source": [
    "<div style=\"font-size:24px;background-color:blue;color:#fff;padding:10px\">ALEXIUS S. ACADEMIA</div>\n",
    "<h2>Assignment 01 - Theory of Plates and Shells</h2><br/>\n",
    "<em>Derivation of stresses from Hooke's Law</em><br>"
   ]
  },
  {
   "cell_type": "code",
   "execution_count": 59,
   "metadata": {
    "collapsed": false
   },
   "outputs": [],
   "source": [
    "import sympy as sp\n",
    "from sympy import init_printing\n",
    "init_printing(use_unicode=True)"
   ]
  },
  {
   "cell_type": "code",
   "execution_count": 9,
   "metadata": {
    "collapsed": false
   },
   "outputs": [],
   "source": [
    "# Declare the symbols\n",
    "EPx, EPy, EPz = sp.symbols(\"\\u03B5x \\u03B5y \\u03B5z\")\n",
    "Qx, Qy, Qz = sp.symbols(\"\\u03C3x \\u03C3z \\u03C3z\")\n",
    "E, v = sp.symbols(\"E \\u03C5\")\n"
   ]
  },
  {
   "cell_type": "markdown",
   "metadata": {},
   "source": [
    "<h3>Generalized Hooke's Law</h3>"
   ]
  },
  {
   "cell_type": "markdown",
   "metadata": {},
   "source": [
    "1) &#949;<sub>x</sub> = $\\frac{1}{E}[$&#963;<sub>x</sub> - &#957;(&#963;<sub>y</sub> + &#963;<sub>z</sub>)$]$ <br/>\n",
    "2) &#949;<sub>y</sub> = $\\frac{1}{E}[$&#963;<sub>y</sub> - &#957;(&#963;<sub>z</sub> + &#963;<sub>x</sub>)$]$ <br/>\n",
    "3) &#949;<sub>z</sub> = $\\frac{1}{E}[$&#963;<sub>z</sub> - &#957;(&#963;<sub>x</sub> + &#963;<sub>y</sub>)$]$ <br/><br/>\n",
    "where,<br/>\n",
    "&nbsp;&nbsp;E - Modulus of elasticity<br/>\n",
    "&nbsp;&nbsp;&#957; - poisson's ratio<br/>"
   ]
  },
  {
   "cell_type": "markdown",
   "metadata": {},
   "source": [
    "Applying the following conditions to the above equations:<br/>\n",
    "&#949;<sub>z</sub> = 0 <br/>\n",
    "&#963;<sub>z</sub> = 0 <br/><br/>\n",
    "we get,<br/>\n",
    "1) &#949;<sub>x</sub> = $\\frac{1}{E}[$&#963;<sub>x</sub> - &#957;&#963;<sub>y</sub>$]$ ==> &#963;<sub>x</sub> - &#957;&#963;<sub>y</sub> = E &#949;<sub>x</sub> <br/>\n",
    "2) &#949;<sub>y</sub> = $\\frac{1}{E}[$&#963;<sub>y</sub> - &#957;&#963;<sub>x</sub>$]$ ==> &#963;<sub>y</sub> - &#957;&#963;<sub>x</sub> = E &#949;<sub>y</sub> <br/>"
   ]
  },
  {
   "cell_type": "markdown",
   "metadata": {},
   "source": [
    "In matrix form we have:<br/>\n",
    "$[ 1$  $-v ]$ $[$ &#963;<sub>x</sub> $]$ = $[$ E &#949;<sub>x</sub> $]$ <br/>\n",
    "$[ -v$  $1 ]$ $[$ &#963;<sub>y</sub> $]$ = $[$ E &#949;<sub>y</sub> $]$ <br/><br/>\n",
    "or M * X = V <br/><br/>\n",
    "where: M - matrix, X - vector and V - vector <br/><br/>\n",
    "Now solving for &#963;<sub>x</sub> and &#963;<sub>y</sub> by using <b>python</b> and <b>sympy</b>"
   ]
  },
  {
   "cell_type": "code",
   "execution_count": 41,
   "metadata": {
    "collapsed": false
   },
   "outputs": [
    {
     "data": {
      "text/latex": [
       "$$\\left[\\begin{matrix}- \\frac{E \\left(εx + εy υ\\right)}{υ^{2} - 1}\\\\- \\frac{E \\left(εx υ + εy\\right)}{υ^{2} - 1}\\end{matrix}\\right]$$"
      ],
      "text/plain": [
       "⎡-E⋅(εx + εy⋅υ) ⎤\n",
       "⎢───────────────⎥\n",
       "⎢      2        ⎥\n",
       "⎢     υ  - 1    ⎥\n",
       "⎢               ⎥\n",
       "⎢-E⋅(εx⋅υ + εy) ⎥\n",
       "⎢───────────────⎥\n",
       "⎢      2        ⎥\n",
       "⎣     υ  - 1    ⎦"
      ]
     },
     "execution_count": 41,
     "metadata": {},
     "output_type": "execute_result"
    }
   ],
   "source": [
    "M = sp.Matrix([[1, -v], \n",
    "               [-v, 1]])        # Create the M matrix\n",
    "\n",
    "V = sp.Matrix([E*EPx, E*EPy])   # Create the V vector\n",
    "\n",
    "# Get the inverse of M matrix\n",
    "Minv = M**-1\n",
    "\n",
    "# Multiply inverse of M by V vector to solve for vector X\n",
    "X = Minv * V\n",
    "sp.simplify(X)"
   ]
  },
  {
   "cell_type": "markdown",
   "metadata": {},
   "source": [
    "Now, interpreting the result, we get:<br/>"
   ]
  },
  {
   "cell_type": "markdown",
   "metadata": {},
   "source": [
    "&#963;<sub>x</sub> = -$\\frac{E}{\\nu^2-1}[\\epsilon_x+\\nu\\epsilon_y]$ <br/>\n",
    "&#963;<sub>y</sub> = -$\\frac{E}{\\nu^2-1}[\\epsilon_x\\nu+\\epsilon_y]$ <br/><br/>\n",
    "rewriting the equation,<br/>\n",
    "<span style=\"font-size: 16px\";>&#963;<sub>x</sub> = $\\frac{E}{1-\\nu^2}[\\epsilon_x + \\nu\\epsilon_y]$ </span><br/><br/>\n",
    "<span style=\"font-size: 16px\">&#963;<sub>y</sub> = $\\frac{E}{1-\\nu^2}[\\epsilon_x\\nu + \\epsilon_y]$ </span>"
   ]
  }
 ],
 "metadata": {
  "kernelspec": {
   "display_name": "Python [Root]",
   "language": "python",
   "name": "Python [Root]"
  },
  "language_info": {
   "codemirror_mode": {
    "name": "ipython",
    "version": 3
   },
   "file_extension": ".py",
   "mimetype": "text/x-python",
   "name": "python",
   "nbconvert_exporter": "python",
   "pygments_lexer": "ipython3",
   "version": "3.5.2"
  }
 },
 "nbformat": 4,
 "nbformat_minor": 0
}
